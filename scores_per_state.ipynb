{
 "cells": [
  {
   "cell_type": "code",
   "execution_count": 1,
   "metadata": {},
   "outputs": [],
   "source": [
    "# dependencies\n",
    "from bs4 import BeautifulSoup as bs\n",
    "from splinter import Browser\n",
    "import requests\n",
    "import PyPDF2\n",
    "import os\n",
    "import io"
   ]
  },
  {
   "cell_type": "code",
   "execution_count": 2,
   "metadata": {},
   "outputs": [],
   "source": [
    "# ignore warnings\n",
    "import warnings\n",
    "warnings.filterwarnings('ignore')"
   ]
  },
  {
   "cell_type": "code",
   "execution_count": 3,
   "metadata": {},
   "outputs": [],
   "source": [
    "# start browser\n",
    "executable_path = {'executable_path':'chromedriver.exe'}\n",
    "browser = Browser('chrome',**executable_path,headless=True)"
   ]
  },
  {
   "cell_type": "code",
   "execution_count": 4,
   "metadata": {},
   "outputs": [
    {
     "name": "stdout",
     "output_type": "stream",
     "text": [
      "https://research.collegeboard.org/programs/sat/data/archived/cb-seniors-2010\n",
      "https://research.collegeboard.org/programs/sat/data/archived/cb-seniors-2011\n",
      "https://research.collegeboard.org/programs/sat/data/archived/cb-seniors-2012\n",
      "https://research.collegeboard.org/programs/sat/data/archived/cb-seniors-2013\n",
      "https://research.collegeboard.org/programs/sat/data/archived/cb-seniors-2014\n",
      "https://research.collegeboard.org/programs/sat/data/archived/cb-seniors-2015\n",
      "https://research.collegeboard.org/programs/sat/data/archived/cb-seniors-2016\n"
     ]
    }
   ],
   "source": [
    "# check for working links\n",
    "arr = ['2010','2011','2012','2013','2014','2015','2016']\n",
    "url = 'https://research.collegeboard.org/programs/sat/data/archived/cb-seniors-'\n",
    "for i in arr:\n",
    "    print(url+i)"
   ]
  },
  {
   "cell_type": "code",
   "execution_count": 5,
   "metadata": {},
   "outputs": [],
   "source": [
    "# DEPRECATED, skip to next block\n",
    "# grab scores from overall mean scores (page 5)\n",
    "arr = ['2010','2011']\n",
    "\n",
    "url = 'https://research.collegeboard.org/programs/sat/data/archived/cb-seniors-'\n",
    "for i in arr:\n",
    "    browser.visit(url+i)\n",
    "    html = browser.html\n",
    "    soup = bs(html,'html.parser')\n",
    "    \n",
    "    table = soup.find('table',class_='table')\n",
    "    states = table.find_all('a')\n",
    "    \n",
    "    print(f'for year {i}')\n",
    "    print('----------------------')\n",
    "\n",
    "    for state in states:\n",
    "        state_name = state.text\n",
    "        state_url = state['href']\n",
    "        response = requests.get(state_url)\n",
    "        \n",
    "        with io.BytesIO(response.content) as open_pdf_file:\n",
    "            pdf_reader = PyPDF2.PdfFileReader(open_pdf_file)\n",
    "            score_page = pdf_reader.getPage(4)\n",
    "            text = score_page.extractText().split('\\n')\n",
    "            \n",
    "            first_loc = [i for i, s in enumerate(text) if 'SDMeanSDMeanTotal' in s][0]\n",
    "            number_str = text[first_loc][-18:]\n",
    "            scores = [number_str[i:i+3] for i in range(0, len(number_str), 3)]\n",
    "            \n",
    "            # uncomment to view output\n",
    "            # print(scores)"
   ]
  },
  {
   "cell_type": "code",
   "execution_count": null,
   "metadata": {},
   "outputs": [],
   "source": [
    "# grab scores from 75th percentile for state (page 6)\n",
    "arr = ['2010','2011']\n",
    "\n",
    "url = 'https://research.collegeboard.org/programs/sat/data/archived/cb-seniors-'\n",
    "for i in arr:\n",
    "    browser.visit(url+i)\n",
    "    html = browser.html\n",
    "    soup = bs(html,'html.parser')\n",
    "    \n",
    "    table = soup.find('table',class_='table')\n",
    "    states = table.find_all('a')\n",
    "    \n",
    "    print(f'for year {i}')\n",
    "    print('----------------------')\n",
    "    \n",
    "    for state in states:\n",
    "        state_name = state.text\n",
    "        state_url = state['href']\n",
    "        response = requests.get(state_url)\n",
    "        \n",
    "        with io.BytesIO(response.content) as open_pdf_file:\n",
    "            pdf_reader = PyPDF2.PdfFileReader(open_pdf_file)\n",
    "            score_page = pdf_reader.getPage(5)\n",
    "            text = score_page.extractText().split('\\n')\n",
    "            \n",
    "            first_loc = [i for i, s in enumerate(text) if 'Critical Reading' in s][1]+1\n",
    "            number_str = text[first_loc]\n",
    "            scores = [number_str[i:i+3] for i in range(0, len(number_str), 3)]\n",
    "\n",
    "            # uncomment to view output\n",
    "            # print(f'{scores} ==> {state_name}')"
   ]
  },
  {
   "cell_type": "code",
   "execution_count": 7,
   "metadata": {},
   "outputs": [],
   "source": [
    "# remember to close browser\n",
    "browser.quit()"
   ]
  },
  {
   "cell_type": "code",
   "execution_count": null,
   "metadata": {},
   "outputs": [],
   "source": []
  },
  {
   "cell_type": "code",
   "execution_count": null,
   "metadata": {},
   "outputs": [],
   "source": []
  },
  {
   "cell_type": "code",
   "execution_count": null,
   "metadata": {},
   "outputs": [],
   "source": []
  },
  {
   "cell_type": "code",
   "execution_count": null,
   "metadata": {},
   "outputs": [],
   "source": []
  },
  {
   "cell_type": "code",
   "execution_count": null,
   "metadata": {},
   "outputs": [],
   "source": []
  },
  {
   "cell_type": "code",
   "execution_count": null,
   "metadata": {},
   "outputs": [],
   "source": []
  },
  {
   "cell_type": "code",
   "execution_count": null,
   "metadata": {},
   "outputs": [],
   "source": []
  },
  {
   "cell_type": "code",
   "execution_count": null,
   "metadata": {},
   "outputs": [],
   "source": []
  }
 ],
 "metadata": {
  "kernelspec": {
   "display_name": "Python 3",
   "language": "python",
   "name": "python3"
  },
  "language_info": {
   "codemirror_mode": {
    "name": "ipython",
    "version": 3
   },
   "file_extension": ".py",
   "mimetype": "text/x-python",
   "name": "python",
   "nbconvert_exporter": "python",
   "pygments_lexer": "ipython3",
   "version": "3.6.5"
  }
 },
 "nbformat": 4,
 "nbformat_minor": 2
}
