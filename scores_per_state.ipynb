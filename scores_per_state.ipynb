{
 "cells": [
  {
   "cell_type": "code",
   "execution_count": 1,
   "metadata": {},
   "outputs": [],
   "source": [
    "# dependencies\n",
    "from bs4 import BeautifulSoup as bs\n",
    "from splinter import Browser\n",
    "from pprint import pprint\n",
    "import requests\n",
    "import PyPDF2\n",
    "import os\n",
    "import io"
   ]
  },
  {
   "cell_type": "code",
   "execution_count": 2,
   "metadata": {},
   "outputs": [],
   "source": [
    "# ignore warnings\n",
    "import warnings\n",
    "warnings.filterwarnings('ignore')"
   ]
  },
  {
   "cell_type": "code",
   "execution_count": 3,
   "metadata": {},
   "outputs": [],
   "source": [
    "# start browser\n",
    "executable_path = {'executable_path':'chromedriver.exe'}\n",
    "browser = Browser('chrome',**executable_path,headless=True)"
   ]
  },
  {
   "cell_type": "code",
   "execution_count": 4,
   "metadata": {},
   "outputs": [
    {
     "name": "stdout",
     "output_type": "stream",
     "text": [
      "https://research.collegeboard.org/programs/sat/data/archived/cb-seniors-2010\n",
      "https://research.collegeboard.org/programs/sat/data/archived/cb-seniors-2011\n",
      "https://research.collegeboard.org/programs/sat/data/archived/cb-seniors-2012\n",
      "https://research.collegeboard.org/programs/sat/data/archived/cb-seniors-2013\n",
      "https://research.collegeboard.org/programs/sat/data/archived/cb-seniors-2014\n",
      "https://research.collegeboard.org/programs/sat/data/archived/cb-seniors-2015\n",
      "https://research.collegeboard.org/programs/sat/data/archived/cb-seniors-2016\n"
     ]
    }
   ],
   "source": [
    "# check for working links\n",
    "arr = ['2010','2011','2012','2013','2014','2015','2016']\n",
    "url = 'https://research.collegeboard.org/programs/sat/data/archived/cb-seniors-'\n",
    "for i in arr:\n",
    "    print(url+i)"
   ]
  },
  {
   "cell_type": "code",
   "execution_count": 5,
   "metadata": {},
   "outputs": [
    {
     "name": "stdout",
     "output_type": "stream",
     "text": [
      "for year 2010\n",
      "----------------------\n",
      "for year 2011\n",
      "----------------------\n"
     ]
    }
   ],
   "source": [
    "# DEPRECATED, skip to next block\n",
    "# grab scores from overall mean scores (page 5)\n",
    "arr = ['2010','2011']\n",
    "\n",
    "url = 'https://research.collegeboard.org/programs/sat/data/archived/cb-seniors-'\n",
    "for i in arr:\n",
    "    browser.visit(url+i)\n",
    "    html = browser.html\n",
    "    soup = bs(html,'html.parser')\n",
    "    \n",
    "    table = soup.find('table',class_='table')\n",
    "    states = table.find_all('a')\n",
    "    \n",
    "    print(f'for year {i}')\n",
    "    print('----------------------')\n",
    "\n",
    "    for state in states:\n",
    "        state_name = state.text\n",
    "        state_url = state['href']\n",
    "        response = requests.get(state_url)\n",
    "        \n",
    "        with io.BytesIO(response.content) as open_pdf_file:\n",
    "            pdf_reader = PyPDF2.PdfFileReader(open_pdf_file)\n",
    "            score_page = pdf_reader.getPage(4)\n",
    "            text = score_page.extractText().split('\\n')\n",
    "            \n",
    "            first_loc = [i for i, s in enumerate(text) if 'SDMeanSDMeanTotal' in s][0]\n",
    "            number_str = text[first_loc][-18:]\n",
    "            scores = [number_str[i:i+3] for i in range(0, len(number_str), 3)]\n",
    "            \n",
    "            # uncomment to view output\n",
    "            # print(scores)"
   ]
  },
  {
   "cell_type": "code",
   "execution_count": 6,
   "metadata": {},
   "outputs": [
    {
     "name": "stdout",
     "output_type": "stream",
     "text": [
      "for year 2010\n",
      "----------------------\n",
      "for year 2011\n",
      "----------------------\n",
      "finished.\n"
     ]
    }
   ],
   "source": [
    "# grab scores from 75th percentile for state (page 6)\n",
    "arr = ['2010','2011']\n",
    "url = 'https://research.collegeboard.org/programs/sat/data/archived/cb-seniors-'\n",
    "\n",
    "year_holder = {}\n",
    "for i in arr:\n",
    "    browser.visit(url+i)\n",
    "    html = browser.html\n",
    "    soup = bs(html,'html.parser')\n",
    "    \n",
    "    table = soup.find('table',class_='table')\n",
    "    states = table.find_all('a')\n",
    "    \n",
    "    print(f'for year {i}')\n",
    "    print('----------------------')\n",
    "    \n",
    "    state_holder = {}\n",
    "    for state in states:\n",
    "        state_name = state.text\n",
    "        state_url = state['href']\n",
    "        response = requests.get(state_url)\n",
    "        \n",
    "        with io.BytesIO(response.content) as open_pdf_file:\n",
    "            pdf_reader = PyPDF2.PdfFileReader(open_pdf_file)\n",
    "            score_page = pdf_reader.getPage(5)\n",
    "            text = score_page.extractText().split('\\n')\n",
    "            \n",
    "            first_loc = [i for i, s in enumerate(text) if 'Critical Reading' in s][1]+1\n",
    "            number_str = text[first_loc]\n",
    "            scores = [number_str[i:i+3] for i in range(0, len(number_str), 3)]\n",
    "\n",
    "            # uncomment to view output\n",
    "            # print(f'{scores} ==> {state_name}')\n",
    "            \n",
    "            state_holder[state_name] = scores\n",
    "            \n",
    "    year_holder[i] = state_holder\n",
    "    \n",
    "print('finished.')"
   ]
  },
  {
   "cell_type": "code",
   "execution_count": 7,
   "metadata": {},
   "outputs": [
    {
     "name": "stdout",
     "output_type": "stream",
     "text": [
      "{'2010': {'Alabama': ['640', '630', '620'],\n",
      "          'Alaska': ['590', '590', '560'],\n",
      "          'Arizona': ['580', '590', '560'],\n",
      "          'Arkansas': ['650', '640', '620'],\n",
      "          'California': ['580', '600', '570'],\n",
      "          'Colorado': ['640', '650', '620'],\n",
      "          'Connecticut': ['580', '600', '590'],\n",
      "          'Delaware': ['560', '570', '550'],\n",
      "          'District of Columbia': ['580', '580', '580'],\n",
      "          'Florida': ['560', '570', '550'],\n",
      "          'Georgia': ['560', '560', '540'],\n",
      "          'Hawaii': ['550', '580', '540'],\n",
      "          'Idaho': ['610', '610', '580'],\n",
      "          'Illinois': ['670', '690', '660'],\n",
      "          'Indiana': ['560', '570', '540'],\n",
      "          'Iowa': ['690', '690', '660'],\n",
      "          'Kansas': ['670', '670', '640'],\n",
      "          'Kentucky': ['650', '650', '630'],\n",
      "          'Louisiana': ['640', '640', '630'],\n",
      "          'Maine': ['540', '540', '530'],\n",
      "          'Maryland': ['580', '590', '570'],\n",
      "          'Massachusetts': ['590', '610', '590'],\n",
      "          'Michigan': ['670', '680', '650'],\n",
      "          'Minnesota': ['670', '680', '660'],\n",
      "          'Mississippi': ['660', '630', '630'],\n",
      "          'Missouri': ['670', '680', '660'],\n",
      "          'Montana': ['600', '610', '580'],\n",
      "          'Nebraska': ['670', '670', '640'],\n",
      "          'Nevada': ['560', '570', '530'],\n",
      "          'New Hampshire': ['590', '600', '580'],\n",
      "          'New Jersey': ['570', '600', '570'],\n",
      "          'New Mexico': ['630', '630', '600'],\n",
      "          'New York': ['560', '580', '550'],\n",
      "          'North Carolina': ['570', '580', '550'],\n",
      "          'North Dakota': ['660', '670', '630'],\n",
      "          'Ohio': ['610', '620', '590'],\n",
      "          'Oklahoma': ['650', '650', '620'],\n",
      "          'Oregon': ['590', '590', '570'],\n",
      "          'Pennsylvania': ['560', '580', '550'],\n",
      "          'Rhode Island': ['570', '570', '560'],\n",
      "          'South Carolina': ['560', '570', '530'],\n",
      "          'South Dakota': ['680', '680', '650'],\n",
      "          'Tennessee': ['650', '650', '640'],\n",
      "          'Texas': ['560', '580', '540'],\n",
      "          'Utah': ['650', '640', '620'],\n",
      "          'Vermont': ['590', '590', '580'],\n",
      "          'Virginia': ['590', '590', '570'],\n",
      "          'Washington': ['600', '600', '570'],\n",
      "          'West Virginia': ['580', '570', '560'],\n",
      "          'Wisconsin': ['680', '680', '650'],\n",
      "          'Wyoming': ['640', '630', '620']},\n",
      " '2011': {'Alabama': ['630', '630', '620'],\n",
      "          'Alaska\\xa0': ['590', '580', '550'],\n",
      "          'Arizona': ['590', '600', '560'],\n",
      "          'Arkansas': ['650', '640', '620'],\n",
      "          'California': ['580', '600', '570'],\n",
      "          'Colorado': ['640', '640', '620'],\n",
      "          'Connecticut': ['590', '600', '590'],\n",
      "          'Delaware': ['560', '560', '550'],\n",
      "          'District of Columbia': ['580', '560', '570'],\n",
      "          'Florida': ['560', '560', '540'],\n",
      "          'Georgia': ['560', '560', '540'],\n",
      "          'Hawaii': ['550', '580', '530'],\n",
      "          'Idaho': ['610', '610', '580'],\n",
      "          'Illinois': ['670', '700', '660'],\n",
      "          'Indiana': ['560', '570', '540'],\n",
      "          'Iowa': ['680', '690', '660'],\n",
      "          'Kansas': ['670', '670', '640'],\n",
      "          'Kentucky': ['650', '650', '640'],\n",
      "          'Louisiana': ['640', '640', '630'],\n",
      "          'Maine': ['550', '540', '530'],\n",
      "          'Maryland': ['580', '590', '570'],\n",
      "          'Massachusetts': ['590', '610', '590'],\n",
      "          'Michigan': ['670', '690', '650'],\n",
      "          'Minnesota': ['670', '680', '650'],\n",
      "          'Mississippi': ['650', '630', '640'],\n",
      "          'Missouri': ['680', '680', '660'],\n",
      "          'Montana': ['600', '610', '580'],\n",
      "          'Nebraska': ['680', '680', '660'],\n",
      "          'Nevada': ['560', '560', '530'],\n",
      "          'New Hampshire': ['590', '600', '580'],\n",
      "          'New Jersey': ['570', '600', '570'],\n",
      "          'New Mexico': ['630', '620', '600'],\n",
      "          'New York': ['560', '580', '550'],\n",
      "          'North Carolina': ['560', '580', '540'],\n",
      "          'North Dakota': ['670', '670', '640'],\n",
      "          'Ohio': ['610', '620', '590'],\n",
      "          'Oklahoma': ['650', '650', '620'],\n",
      "          'Oregon': ['590', '590', '570'],\n",
      "          'Pennsylvania': ['560', '580', '550'],\n",
      "          'Puerto Rico': ['520', '530', '530'],\n",
      "          'Rhode Island': ['570', '570', '560'],\n",
      "          'South Carolina': ['550', '560', '530'],\n",
      "          'South Dakota': ['670', '670', '640'],\n",
      "          'Tennessee': ['650', '650', '640'],\n",
      "          'Texas': ['550', '570', '530'],\n",
      "          'Utah': ['640', '640', '620'],\n",
      "          'Vermont': ['590', '590', '580'],\n",
      "          'Virgin Islands': ['470', '440', '460'],\n",
      "          'Virginia': ['590', '580', '570'],\n",
      "          'Washington': ['600', '600', '580'],\n",
      "          'West Virginia': ['580', '570', '560'],\n",
      "          'Wisconsin': ['670', '680', '650'],\n",
      "          'Wyoming': ['660', '640', '620']}}\n"
     ]
    }
   ],
   "source": [
    "pprint(year_holder)"
   ]
  },
  {
   "cell_type": "code",
   "execution_count": 8,
   "metadata": {},
   "outputs": [],
   "source": [
    "# remember to close browser\n",
    "browser.quit()"
   ]
  }
 ],
 "metadata": {
  "kernelspec": {
   "display_name": "Python 3",
   "language": "python",
   "name": "python3"
  },
  "language_info": {
   "codemirror_mode": {
    "name": "ipython",
    "version": 3
   },
   "file_extension": ".py",
   "mimetype": "text/x-python",
   "name": "python",
   "nbconvert_exporter": "python",
   "pygments_lexer": "ipython3",
   "version": "3.6.5"
  }
 },
 "nbformat": 4,
 "nbformat_minor": 2
}
