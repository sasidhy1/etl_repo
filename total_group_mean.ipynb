{
 "cells": [
  {
   "cell_type": "code",
   "execution_count": 1,
   "metadata": {},
   "outputs": [],
   "source": [
    "# dependencies\n",
    "import PyPDF2\n",
    "import os"
   ]
  },
  {
   "cell_type": "code",
   "execution_count": 2,
   "metadata": {},
   "outputs": [],
   "source": [
    "# filepath\n",
    "filepath = os.path.join('resources','hi_16_03_03_01.pdf')"
   ]
  },
  {
   "cell_type": "code",
   "execution_count": 3,
   "metadata": {},
   "outputs": [],
   "source": [
    "# create object and reader\n",
    "pdf_object = open(filepath,'rb')\n",
    "pdf_reader = PyPDF2.PdfFileReader(pdf_object)"
   ]
  },
  {
   "cell_type": "code",
   "execution_count": 4,
   "metadata": {},
   "outputs": [
    {
     "data": {
      "text/plain": [
       "19"
      ]
     },
     "execution_count": 4,
     "metadata": {},
     "output_type": "execute_result"
    }
   ],
   "source": [
    "# number of pages\n",
    "pdf_reader.numPages"
   ]
  },
  {
   "cell_type": "code",
   "execution_count": 5,
   "metadata": {
    "scrolled": true
   },
   "outputs": [],
   "source": [
    "# just grab score page\n",
    "score_page = pdf_reader.getPage(2)"
   ]
  },
  {
   "cell_type": "code",
   "execution_count": 6,
   "metadata": {},
   "outputs": [],
   "source": [
    "# split by newline, extract text\n",
    "text = score_page.extractText().split('\\n')\n",
    "\n",
    "# uncomment to view extracted text str array\n",
    "# text"
   ]
  },
  {
   "cell_type": "code",
   "execution_count": 7,
   "metadata": {},
   "outputs": [
    {
     "data": {
      "text/plain": [
       "42"
      ]
     },
     "execution_count": 7,
     "metadata": {},
     "output_type": "execute_result"
    }
   ],
   "source": [
    "# find 2015 row\n",
    "text.index('2015')"
   ]
  },
  {
   "cell_type": "code",
   "execution_count": 8,
   "metadata": {},
   "outputs": [
    {
     "name": "stdout",
     "output_type": "stream",
     "text": [
      "this pdf is in range\n"
     ]
    }
   ],
   "source": [
    "# check if pdf is in right range\n",
    "str_range = '1972–2016'\n",
    "\n",
    "if str_range in text[0]:\n",
    "    print('this pdf is in range')\n",
    "else:\n",
    "    print('this pdf is NOT in range')"
   ]
  },
  {
   "cell_type": "code",
   "execution_count": 9,
   "metadata": {
    "scrolled": true
   },
   "outputs": [],
   "source": [
    "# crop out unnecessary strings\n",
    "find_str = 'MaleFemaleTotal'\n",
    "ind = [ind for ind, s in enumerate(text) if find_str in s][0]\n",
    "\n",
    "crop = text[:(ind + 1)]\n",
    "\n",
    "crop[0] = crop[0][59:]\n",
    "crop[ind] = crop[ind][:3]\n",
    "\n",
    "# uncomment to view cropped data\n",
    "# crop"
   ]
  },
  {
   "cell_type": "code",
   "execution_count": 10,
   "metadata": {},
   "outputs": [],
   "source": [
    "# DEPRECATED, SKIP TO NEXT BLOCK\n",
    "# new list with correct strings\n",
    "arr = []\n",
    "for i in crop:\n",
    "    if len(i) > 4 and (i.startswith('2016') or i.startswith('1972')):\n",
    "        a = i[:4]\n",
    "        b = i[4:]\n",
    "        arr.append(a)\n",
    "        if len(b) > 4:\n",
    "            a = b[:3]\n",
    "            b = b[3:]\n",
    "            arr.append(a)\n",
    "            arr.append(b)\n",
    "    elif len(i) > 4:\n",
    "        a = i[:3]\n",
    "        b = i[3:6]\n",
    "        c = i[6:]\n",
    "        arr.append(a)\n",
    "        arr.append(b)\n",
    "        arr.append(c)\n",
    "    else:\n",
    "        arr.append(i)\n",
    "\n",
    "# uncomment to view array\n",
    "# arr"
   ]
  },
  {
   "cell_type": "code",
   "execution_count": 11,
   "metadata": {},
   "outputs": [],
   "source": [
    "# grab errored strings\n",
    "errors = []\n",
    "for i in crop:\n",
    "    if len(i) > 4:\n",
    "        errors.append(i)\n",
    "        \n",
    "crit_err = errors[3]\n",
    "math_err = errors[6]"
   ]
  },
  {
   "cell_type": "code",
   "execution_count": 12,
   "metadata": {},
   "outputs": [],
   "source": [
    "# grab index of error strings\n",
    "crit_ind = crop.index(crit_err)\n",
    "math_ind = crop.index(math_err)\n",
    "\n",
    "# create empty dicts, fill with scores per year\n",
    "crit_scores = {}\n",
    "math_scores = {}\n",
    "arr = ['2010','2011','2012','2013','2014','2015','2016']\n",
    "for i in arr:\n",
    "    crit_scores[i] = crop[(crit_ind + (int(i) - 1973))][:3]\n",
    "    math_scores[i] = crop[(math_ind + (int(i) - 1973))][:3]"
   ]
  },
  {
   "cell_type": "code",
   "execution_count": 13,
   "metadata": {},
   "outputs": [
    {
     "data": {
      "text/plain": [
       "{'2010': '500',\n",
       " '2011': '497',\n",
       " '2012': '496',\n",
       " '2013': '496',\n",
       " '2014': '497',\n",
       " '2015': '495',\n",
       " '2016': '494'}"
      ]
     },
     "execution_count": 13,
     "metadata": {},
     "output_type": "execute_result"
    }
   ],
   "source": [
    "# view critical reading score dict\n",
    "crit_scores"
   ]
  },
  {
   "cell_type": "code",
   "execution_count": 14,
   "metadata": {},
   "outputs": [
    {
     "data": {
      "text/plain": [
       "{'2010': '515',\n",
       " '2011': '514',\n",
       " '2012': '514',\n",
       " '2013': '514',\n",
       " '2014': '513',\n",
       " '2015': '511',\n",
       " '2016': '508'}"
      ]
     },
     "execution_count": 14,
     "metadata": {},
     "output_type": "execute_result"
    }
   ],
   "source": [
    "# view math score dict\n",
    "math_scores"
   ]
  }
 ],
 "metadata": {
  "kernelspec": {
   "display_name": "Python 3",
   "language": "python",
   "name": "python3"
  },
  "language_info": {
   "codemirror_mode": {
    "name": "ipython",
    "version": 3
   },
   "file_extension": ".py",
   "mimetype": "text/x-python",
   "name": "python",
   "nbconvert_exporter": "python",
   "pygments_lexer": "ipython3",
   "version": "3.6.5"
  }
 },
 "nbformat": 4,
 "nbformat_minor": 2
}
